{
 "cells": [
  {
   "cell_type": "code",
   "execution_count": 1,
   "id": "bf31f195",
   "metadata": {
    "scrolled": false
   },
   "outputs": [
    {
     "name": "stderr",
     "output_type": "stream",
     "text": [
      "C:\\Users\\Kankana Ghosh\\AppData\\Local\\Programs\\Python\\Python310\\lib\\site-packages\\pgmpy\\global_vars.py:11: UserWarning: Failed to initialize NumPy: module compiled against API version 0x10 but this version of numpy is 0xf (Triggered internally at ..\\torch\\csrc\\utils\\tensor_numpy.cpp:77.)\n",
      "  device = torch.device(\"cpu\")\n",
      "C:\\Users\\Kankana Ghosh\\AppData\\Local\\Temp\\ipykernel_5224\\445524174.py:10: DeprecationWarning: Importing display from IPython.core.display is deprecated since IPython 7.14, please import from IPython display\n",
      "  from IPython.core.display import display, HTML\n"
     ]
    },
    {
     "data": {
      "text/html": [
       "<div>\n",
       "<style scoped>\n",
       "    .dataframe tbody tr th:only-of-type {\n",
       "        vertical-align: middle;\n",
       "    }\n",
       "\n",
       "    .dataframe tbody tr th {\n",
       "        vertical-align: top;\n",
       "    }\n",
       "\n",
       "    .dataframe thead th {\n",
       "        text-align: right;\n",
       "    }\n",
       "</style>\n",
       "<table border=\"1\" class=\"dataframe\">\n",
       "  <thead>\n",
       "    <tr style=\"text-align: right;\">\n",
       "      <th></th>\n",
       "      <th>age</th>\n",
       "      <th>sex</th>\n",
       "      <th>cp</th>\n",
       "      <th>trtbps</th>\n",
       "      <th>chol</th>\n",
       "      <th>fbs</th>\n",
       "      <th>restecg</th>\n",
       "      <th>thalachh</th>\n",
       "      <th>exng</th>\n",
       "      <th>oldpeak</th>\n",
       "      <th>slp</th>\n",
       "      <th>caa</th>\n",
       "      <th>thall</th>\n",
       "      <th>output</th>\n",
       "    </tr>\n",
       "  </thead>\n",
       "  <tbody>\n",
       "    <tr>\n",
       "      <th>0</th>\n",
       "      <td>63</td>\n",
       "      <td>1</td>\n",
       "      <td>3</td>\n",
       "      <td>145</td>\n",
       "      <td>233</td>\n",
       "      <td>1</td>\n",
       "      <td>0</td>\n",
       "      <td>150</td>\n",
       "      <td>0</td>\n",
       "      <td>2.3</td>\n",
       "      <td>0</td>\n",
       "      <td>0</td>\n",
       "      <td>1</td>\n",
       "      <td>1</td>\n",
       "    </tr>\n",
       "    <tr>\n",
       "      <th>1</th>\n",
       "      <td>37</td>\n",
       "      <td>1</td>\n",
       "      <td>2</td>\n",
       "      <td>130</td>\n",
       "      <td>250</td>\n",
       "      <td>0</td>\n",
       "      <td>1</td>\n",
       "      <td>187</td>\n",
       "      <td>0</td>\n",
       "      <td>3.5</td>\n",
       "      <td>0</td>\n",
       "      <td>0</td>\n",
       "      <td>2</td>\n",
       "      <td>1</td>\n",
       "    </tr>\n",
       "    <tr>\n",
       "      <th>2</th>\n",
       "      <td>41</td>\n",
       "      <td>0</td>\n",
       "      <td>1</td>\n",
       "      <td>130</td>\n",
       "      <td>204</td>\n",
       "      <td>0</td>\n",
       "      <td>0</td>\n",
       "      <td>172</td>\n",
       "      <td>0</td>\n",
       "      <td>1.4</td>\n",
       "      <td>2</td>\n",
       "      <td>0</td>\n",
       "      <td>2</td>\n",
       "      <td>1</td>\n",
       "    </tr>\n",
       "    <tr>\n",
       "      <th>3</th>\n",
       "      <td>56</td>\n",
       "      <td>1</td>\n",
       "      <td>1</td>\n",
       "      <td>120</td>\n",
       "      <td>236</td>\n",
       "      <td>0</td>\n",
       "      <td>1</td>\n",
       "      <td>178</td>\n",
       "      <td>0</td>\n",
       "      <td>0.8</td>\n",
       "      <td>2</td>\n",
       "      <td>0</td>\n",
       "      <td>2</td>\n",
       "      <td>1</td>\n",
       "    </tr>\n",
       "    <tr>\n",
       "      <th>4</th>\n",
       "      <td>57</td>\n",
       "      <td>0</td>\n",
       "      <td>0</td>\n",
       "      <td>120</td>\n",
       "      <td>354</td>\n",
       "      <td>0</td>\n",
       "      <td>1</td>\n",
       "      <td>163</td>\n",
       "      <td>1</td>\n",
       "      <td>0.6</td>\n",
       "      <td>2</td>\n",
       "      <td>0</td>\n",
       "      <td>2</td>\n",
       "      <td>1</td>\n",
       "    </tr>\n",
       "  </tbody>\n",
       "</table>\n",
       "</div>"
      ],
      "text/plain": [
       "   age  sex  cp  trtbps  chol  fbs  restecg  thalachh  exng  oldpeak  slp  \\\n",
       "0   63    1   3     145   233    1        0       150     0      2.3    0   \n",
       "1   37    1   2     130   250    0        1       187     0      3.5    0   \n",
       "2   41    0   1     130   204    0        0       172     0      1.4    2   \n",
       "3   56    1   1     120   236    0        1       178     0      0.8    2   \n",
       "4   57    0   0     120   354    0        1       163     1      0.6    2   \n",
       "\n",
       "   caa  thall  output  \n",
       "0    0      1       1  \n",
       "1    0      2       1  \n",
       "2    0      2       1  \n",
       "3    0      2       1  \n",
       "4    0      2       1  "
      ]
     },
     "execution_count": 1,
     "metadata": {},
     "output_type": "execute_result"
    }
   ],
   "source": [
    "from pandas import read_csv\n",
    "import pandas as pd\n",
    "import numpy as np\n",
    "import seaborn as sns\n",
    "import matplotlib.pyplot as plt\n",
    "\n",
    "import networkx as nx\n",
    "from pgmpy.models import BayesianNetwork\n",
    "from pgmpy.estimators import BayesianEstimator, MaximumLikelihoodEstimator\n",
    "from IPython.core.display import display, HTML\n",
    "from pgmpy.independencies.Independencies import IndependenceAssertion\n",
    "from pgmpy.inference import VariableElimination\n",
    "from sklearn.preprocessing import LabelEncoder\n",
    "\n",
    "df = read_csv(\"heart.csv\")\n",
    "df.head()"
   ]
  },
  {
   "cell_type": "code",
   "execution_count": 2,
   "id": "4d0f8729",
   "metadata": {},
   "outputs": [
    {
     "data": {
      "text/plain": [
       "(303, 14)"
      ]
     },
     "execution_count": 2,
     "metadata": {},
     "output_type": "execute_result"
    }
   ],
   "source": [
    "df.shape"
   ]
  },
  {
   "cell_type": "markdown",
   "id": "4ad43e10",
   "metadata": {},
   "source": [
    "age : Age of the patient\n",
    "\n",
    "sex : Sex of the patient\n",
    "      \n",
    "    Value 0 : Female\n",
    "      \n",
    "    Value 1: Male\n",
    "\n",
    "ChestPainType : Chest Pain type\n",
    "\n",
    "    Value 0: typical angina\n",
    "\n",
    "    Value 1: atypical angina\n",
    "\n",
    "    Value 2: non-anginal pain\n",
    "\n",
    "    Value 3: asymptomatic\n",
    "\n",
    "RestingBP : resting blood pressure (in mm Hg)\n",
    "\n",
    "Cholestrol: cholesterol in mg/dl fetched via BMI sensor\n",
    "\n",
    "FastingBS: (fasting blood sugar > 120 mg/dl)\n",
    "\n",
    "    1 = true\n",
    "\n",
    "    0 = false\n",
    "\n",
    "Resting_ECG: resting electrocardiographic results\n",
    "\n",
    "    Value 0: normal\n",
    "\n",
    "    Value 1: having ST-T wave abnormality (T wave inversions and/or ST elevation or depression of > 0.05 mV)\n",
    "\n",
    "    Value 2: showing probable or definite left ventricular hypertrophy by Estes' criteria\n",
    "\n",
    "MaxHR: maximum heart rate achieved\n",
    "\n",
    "ExerciseAngina: exercise induced angina\n",
    "\n",
    "    1 = yes\n",
    "\n",
    "    0 = no\n",
    "\n",
    "oldpeak: ST depression induced by exercise relative to rest\n",
    "\n",
    "ST_slope: the slope of the peak exercise ST segment\n",
    "\n",
    "    0 = unsloping\n",
    "\n",
    "    1 = flat\n",
    "\n",
    "    2 = downsloping\n",
    "\n",
    "no.ofVes: number of major vessels (0-3)\n",
    "\n",
    "Thalassemia\n",
    "\n",
    "    0 = null\n",
    "\n",
    "    1 = fixed defect\n",
    "\n",
    "    2 = normal\n",
    "\n",
    "    3 = reversable defect\n",
    "\n",
    "HeartAttack: diagnosis of heart disease (angiographic disease status)\n",
    "\n",
    "    0: < 50% diameter narrowing. less chance of heart disease\n",
    "\n",
    "    1: > 50% diameter narrowing. more chance of heart disease"
   ]
  },
  {
   "cell_type": "markdown",
   "id": "dd2cfca0",
   "metadata": {},
   "source": [
    "Renaming the column names for better understanding"
   ]
  },
  {
   "cell_type": "code",
   "execution_count": 3,
   "id": "f0b04154",
   "metadata": {},
   "outputs": [
    {
     "data": {
      "text/html": [
       "<div>\n",
       "<style scoped>\n",
       "    .dataframe tbody tr th:only-of-type {\n",
       "        vertical-align: middle;\n",
       "    }\n",
       "\n",
       "    .dataframe tbody tr th {\n",
       "        vertical-align: top;\n",
       "    }\n",
       "\n",
       "    .dataframe thead th {\n",
       "        text-align: right;\n",
       "    }\n",
       "</style>\n",
       "<table border=\"1\" class=\"dataframe\">\n",
       "  <thead>\n",
       "    <tr style=\"text-align: right;\">\n",
       "      <th></th>\n",
       "      <th>age</th>\n",
       "      <th>sex</th>\n",
       "      <th>ChestPainType</th>\n",
       "      <th>RestingBP</th>\n",
       "      <th>Cholestrol</th>\n",
       "      <th>FastingBS</th>\n",
       "      <th>RestingECG</th>\n",
       "      <th>MaxHR</th>\n",
       "      <th>ExerciseAngina</th>\n",
       "      <th>oldpeak</th>\n",
       "      <th>ST_Slope</th>\n",
       "      <th>no.ofVes</th>\n",
       "      <th>Thalassemia</th>\n",
       "      <th>HeartAttack</th>\n",
       "    </tr>\n",
       "  </thead>\n",
       "  <tbody>\n",
       "    <tr>\n",
       "      <th>0</th>\n",
       "      <td>63</td>\n",
       "      <td>1</td>\n",
       "      <td>3</td>\n",
       "      <td>145</td>\n",
       "      <td>233</td>\n",
       "      <td>1</td>\n",
       "      <td>0</td>\n",
       "      <td>150</td>\n",
       "      <td>0</td>\n",
       "      <td>2.3</td>\n",
       "      <td>0</td>\n",
       "      <td>0</td>\n",
       "      <td>1</td>\n",
       "      <td>1</td>\n",
       "    </tr>\n",
       "    <tr>\n",
       "      <th>1</th>\n",
       "      <td>37</td>\n",
       "      <td>1</td>\n",
       "      <td>2</td>\n",
       "      <td>130</td>\n",
       "      <td>250</td>\n",
       "      <td>0</td>\n",
       "      <td>1</td>\n",
       "      <td>187</td>\n",
       "      <td>0</td>\n",
       "      <td>3.5</td>\n",
       "      <td>0</td>\n",
       "      <td>0</td>\n",
       "      <td>2</td>\n",
       "      <td>1</td>\n",
       "    </tr>\n",
       "    <tr>\n",
       "      <th>2</th>\n",
       "      <td>41</td>\n",
       "      <td>0</td>\n",
       "      <td>1</td>\n",
       "      <td>130</td>\n",
       "      <td>204</td>\n",
       "      <td>0</td>\n",
       "      <td>0</td>\n",
       "      <td>172</td>\n",
       "      <td>0</td>\n",
       "      <td>1.4</td>\n",
       "      <td>2</td>\n",
       "      <td>0</td>\n",
       "      <td>2</td>\n",
       "      <td>1</td>\n",
       "    </tr>\n",
       "    <tr>\n",
       "      <th>3</th>\n",
       "      <td>56</td>\n",
       "      <td>1</td>\n",
       "      <td>1</td>\n",
       "      <td>120</td>\n",
       "      <td>236</td>\n",
       "      <td>0</td>\n",
       "      <td>1</td>\n",
       "      <td>178</td>\n",
       "      <td>0</td>\n",
       "      <td>0.8</td>\n",
       "      <td>2</td>\n",
       "      <td>0</td>\n",
       "      <td>2</td>\n",
       "      <td>1</td>\n",
       "    </tr>\n",
       "    <tr>\n",
       "      <th>4</th>\n",
       "      <td>57</td>\n",
       "      <td>0</td>\n",
       "      <td>0</td>\n",
       "      <td>120</td>\n",
       "      <td>354</td>\n",
       "      <td>0</td>\n",
       "      <td>1</td>\n",
       "      <td>163</td>\n",
       "      <td>1</td>\n",
       "      <td>0.6</td>\n",
       "      <td>2</td>\n",
       "      <td>0</td>\n",
       "      <td>2</td>\n",
       "      <td>1</td>\n",
       "    </tr>\n",
       "  </tbody>\n",
       "</table>\n",
       "</div>"
      ],
      "text/plain": [
       "   age  sex  ChestPainType  RestingBP  Cholestrol  FastingBS  RestingECG  \\\n",
       "0   63    1              3        145         233          1           0   \n",
       "1   37    1              2        130         250          0           1   \n",
       "2   41    0              1        130         204          0           0   \n",
       "3   56    1              1        120         236          0           1   \n",
       "4   57    0              0        120         354          0           1   \n",
       "\n",
       "   MaxHR  ExerciseAngina  oldpeak  ST_Slope  no.ofVes  Thalassemia  \\\n",
       "0    150               0      2.3         0         0            1   \n",
       "1    187               0      3.5         0         0            2   \n",
       "2    172               0      1.4         2         0            2   \n",
       "3    178               0      0.8         2         0            2   \n",
       "4    163               1      0.6         2         0            2   \n",
       "\n",
       "   HeartAttack  \n",
       "0            1  \n",
       "1            1  \n",
       "2            1  \n",
       "3            1  \n",
       "4            1  "
      ]
     },
     "execution_count": 3,
     "metadata": {},
     "output_type": "execute_result"
    }
   ],
   "source": [
    "df.rename(\n",
    "    columns=({ 'cp': 'ChestPainType', 'trtbps': 'RestingBP', 'chol':'Cholestrol', 'fbs': 'FastingBS', 'restecg':'RestingECG','thalachh':'MaxHR','exng':'ExerciseAngina','slp':'ST_Slope','caa': 'no.ofVes','thall' : 'Thalassemia','output':'HeartAttack'}), \n",
    "    inplace=True,\n",
    ")\n",
    "df.head()"
   ]
  },
  {
   "cell_type": "markdown",
   "id": "8425f9c2",
   "metadata": {},
   "source": [
    "Setting target variable"
   ]
  },
  {
   "cell_type": "code",
   "execution_count": 4,
   "id": "9bc6a34b",
   "metadata": {},
   "outputs": [],
   "source": [
    "target='HeartAttack'"
   ]
  },
  {
   "cell_type": "code",
   "execution_count": 5,
   "id": "49fbae47",
   "metadata": {
    "scrolled": true
   },
   "outputs": [
    {
     "data": {
      "image/png": "[encoded data removed]",
      "text/plain": [
       "<Figure size 720x576 with 2 Axes>"
      ]
     },
     "metadata": {
      "needs_background": "light"
     },
     "output_type": "display_data"
    }
   ],
   "source": [
    "# correlation matrix of each feature with respect to target\n",
    "\n",
    "corr_matrix = df.corr()\n",
    "plt.figure(figsize=(10, 8))\n",
    "sns.heatmap(corr_matrix, annot=True)\n",
    "plt.show()"
   ]
  },
  {
   "cell_type": "markdown",
   "id": "ad528757",
   "metadata": {},
   "source": [
    "Data discretization\n",
    "\n",
    "Pgmpy doesn't support learning parameters from continuous variables (https://github.com/pgmpy/pgmpy/issues/1084). In particular only relevant bins were taken into consideration."
   ]
  },
  {
   "cell_type": "code",
   "execution_count": 6,
   "id": "a14a0f51",
   "metadata": {},
   "outputs": [],
   "source": [
    "df['age']=pd.cut(x=df['age'], bins=[np.min(df['age']),35,45,55,65,75,np.max(df['age'])], \n",
    "                        labels=[\"25-35\",\"35-45\",\"45-55\",\"55-65\", \"65-75\", \"75-85\"])"
   ]
  },
  {
   "cell_type": "markdown",
   "id": "7350cf1e",
   "metadata": {},
   "source": [
    "https://www.cdc.gov/bloodpressure/about.htm#:~:text=%2F80%20mmHg.%E2%80%9D-,What%20are%20normal%20blood%20pressure%20numbers%3F,less%20than%20120%2F80%20mmHg.&text=No%20matter%20your%20age%2C%20you,pressure%20in%20a%20healthy%20range."
   ]
  },
  {
   "cell_type": "code",
   "execution_count": 7,
   "id": "24042fc1",
   "metadata": {},
   "outputs": [],
   "source": [
    "df['RestingBP']=pd.cut(x=df['RestingBP'], bins=[np.min(df['RestingBP']),110,130,np.max(df['RestingBP'])], \n",
    "                        labels=[\"90-110\",\"110-130\",\"130+\"])"
   ]
  },
  {
   "cell_type": "code",
   "execution_count": 8,
   "id": "eaf5165b",
   "metadata": {
    "scrolled": true
   },
   "outputs": [],
   "source": [
    "df['Cholestrol']=pd.cut(x=df['Cholestrol'], bins=[np.min(df['Cholestrol']),200,240,280,320,np.max(df['Cholestrol'])], \n",
    "                        labels=[\"120-200\",\"200-240\",\"240-280\",\"280-320\",\"320+\"])"
   ]
  },
  {
   "cell_type": "code",
   "execution_count": 9,
   "id": "117b7819",
   "metadata": {
    "scrolled": false
   },
   "outputs": [],
   "source": [
    "df['MaxHR']=pd.cut(x=df['MaxHR'], bins=[np.min(df['MaxHR']),99,132,160,np.max(df['MaxHR'])], \n",
    "                        labels=[\"70-99\",\"99-130\",\"130-160\",\"160-205\"])"
   ]
  },
  {
   "cell_type": "code",
   "execution_count": 10,
   "id": "910b2d7d",
   "metadata": {},
   "outputs": [],
   "source": [
    "df['oldpeak']=pd.cut(x=df['oldpeak'], bins=[np.min(df['oldpeak']),1.5,2.5,np.max(df['oldpeak'])], \n",
    "                        labels=[\"0-1.5\",\"1.5-2.5\",\"2.5-6\"])"
   ]
  },
  {
   "cell_type": "code",
   "execution_count": 11,
   "id": "fd9a7826",
   "metadata": {
    "scrolled": false
   },
   "outputs": [
    {
     "data": {
      "text/html": [
       "<div>\n",
       "<style scoped>\n",
       "    .dataframe tbody tr th:only-of-type {\n",
       "        vertical-align: middle;\n",
       "    }\n",
       "\n",
       "    .dataframe tbody tr th {\n",
       "        vertical-align: top;\n",
       "    }\n",
       "\n",
       "    .dataframe thead th {\n",
       "        text-align: right;\n",
       "    }\n",
       "</style>\n",
       "<table border=\"1\" class=\"dataframe\">\n",
       "  <thead>\n",
       "    <tr style=\"text-align: right;\">\n",
       "      <th></th>\n",
       "      <th>age</th>\n",
       "      <th>sex</th>\n",
       "      <th>ChestPainType</th>\n",
       "      <th>RestingBP</th>\n",
       "      <th>Cholestrol</th>\n",
       "      <th>FastingBS</th>\n",
       "      <th>RestingECG</th>\n",
       "      <th>MaxHR</th>\n",
       "      <th>ExerciseAngina</th>\n",
       "      <th>oldpeak</th>\n",
       "      <th>ST_Slope</th>\n",
       "      <th>no.ofVes</th>\n",
       "      <th>Thalassemia</th>\n",
       "      <th>HeartAttack</th>\n",
       "    </tr>\n",
       "  </thead>\n",
       "  <tbody>\n",
       "    <tr>\n",
       "      <th>0</th>\n",
       "      <td>55-65</td>\n",
       "      <td>1</td>\n",
       "      <td>3</td>\n",
       "      <td>130+</td>\n",
       "      <td>200-240</td>\n",
       "      <td>1</td>\n",
       "      <td>0</td>\n",
       "      <td>130-160</td>\n",
       "      <td>0</td>\n",
       "      <td>1.5-2.5</td>\n",
       "      <td>0</td>\n",
       "      <td>0</td>\n",
       "      <td>1</td>\n",
       "      <td>1</td>\n",
       "    </tr>\n",
       "    <tr>\n",
       "      <th>1</th>\n",
       "      <td>35-45</td>\n",
       "      <td>1</td>\n",
       "      <td>2</td>\n",
       "      <td>110-130</td>\n",
       "      <td>240-280</td>\n",
       "      <td>0</td>\n",
       "      <td>1</td>\n",
       "      <td>160-205</td>\n",
       "      <td>0</td>\n",
       "      <td>2.5-6</td>\n",
       "      <td>0</td>\n",
       "      <td>0</td>\n",
       "      <td>2</td>\n",
       "      <td>1</td>\n",
       "    </tr>\n",
       "    <tr>\n",
       "      <th>2</th>\n",
       "      <td>35-45</td>\n",
       "      <td>0</td>\n",
       "      <td>1</td>\n",
       "      <td>110-130</td>\n",
       "      <td>200-240</td>\n",
       "      <td>0</td>\n",
       "      <td>0</td>\n",
       "      <td>160-205</td>\n",
       "      <td>0</td>\n",
       "      <td>0-1.5</td>\n",
       "      <td>2</td>\n",
       "      <td>0</td>\n",
       "      <td>2</td>\n",
       "      <td>1</td>\n",
       "    </tr>\n",
       "    <tr>\n",
       "      <th>3</th>\n",
       "      <td>55-65</td>\n",
       "      <td>1</td>\n",
       "      <td>1</td>\n",
       "      <td>110-130</td>\n",
       "      <td>200-240</td>\n",
       "      <td>0</td>\n",
       "      <td>1</td>\n",
       "      <td>160-205</td>\n",
       "      <td>0</td>\n",
       "      <td>0-1.5</td>\n",
       "      <td>2</td>\n",
       "      <td>0</td>\n",
       "      <td>2</td>\n",
       "      <td>1</td>\n",
       "    </tr>\n",
       "    <tr>\n",
       "      <th>4</th>\n",
       "      <td>55-65</td>\n",
       "      <td>0</td>\n",
       "      <td>0</td>\n",
       "      <td>110-130</td>\n",
       "      <td>320+</td>\n",
       "      <td>0</td>\n",
       "      <td>1</td>\n",
       "      <td>160-205</td>\n",
       "      <td>1</td>\n",
       "      <td>0-1.5</td>\n",
       "      <td>2</td>\n",
       "      <td>0</td>\n",
       "      <td>2</td>\n",
       "      <td>1</td>\n",
       "    </tr>\n",
       "  </tbody>\n",
       "</table>\n",
       "</div>"
      ],
      "text/plain": [
       "     age  sex  ChestPainType RestingBP Cholestrol  FastingBS  RestingECG  \\\n",
       "0  55-65    1              3      130+    200-240          1           0   \n",
       "1  35-45    1              2   110-130    240-280          0           1   \n",
       "2  35-45    0              1   110-130    200-240          0           0   \n",
       "3  55-65    1              1   110-130    200-240          0           1   \n",
       "4  55-65    0              0   110-130       320+          0           1   \n",
       "\n",
       "     MaxHR  ExerciseAngina  oldpeak  ST_Slope  no.ofVes  Thalassemia  \\\n",
       "0  130-160               0  1.5-2.5         0         0            1   \n",
       "1  160-205               0    2.5-6         0         0            2   \n",
       "2  160-205               0    0-1.5         2         0            2   \n",
       "3  160-205               0    0-1.5         2         0            2   \n",
       "4  160-205               1    0-1.5         2         0            2   \n",
       "\n",
       "   HeartAttack  \n",
       "0            1  \n",
       "1            1  \n",
       "2            1  \n",
       "3            1  \n",
       "4            1  "
      ]
     },
     "execution_count": 11,
     "metadata": {},
     "output_type": "execute_result"
    }
   ],
   "source": [
    "df.head()"
   ]
  },
  {
   "cell_type": "code",
   "execution_count": 12,
   "id": "d0aa6954",
   "metadata": {},
   "outputs": [
    {
     "data": {
      "image/png": "[encoded data removed]",
      "text/plain": [
       "<Figure size 1008x2160 with 14 Axes>"
      ]
     },
     "metadata": {
      "needs_background": "light"
     },
     "output_type": "display_data"
    }
   ],
   "source": [
    "# countplot of each feature with respect to target \"HeartAttack\"\n",
    "\n",
    "_, axes = plt.subplots(nrows=7, ncols=2, figsize=(14, 30), sharey=True)\n",
    "axes = [axis for subl in axes for axis in subl]\n",
    "for col, ax in zip(df.columns, axes):\n",
    "    if col != target:\n",
    "        sns.countplot(x=col, hue=\"HeartAttack\", data=df, ax=ax, palette=\"Set1\")\n",
    "    else:\n",
    "        sns.countplot(x=col, data=df, ax=ax, palette=\"Set1\")"
   ]
  },
  {
   "cell_type": "markdown",
   "id": "1faf3688",
   "metadata": {},
   "source": [
    "### Bayesian Model and CPT\n",
    "Before calulating the CPT,we need to create the bayesian Model and need to create the connections between the nodes. The connection between the nodes are based on various scientific medical publications and online resources. The node connections are as follows :\n",
    "\n",
    "age -> RestingBP https://www.nia.nih.gov/health/heart-health-and-aging#:~:text=The%20most%20common%20aging%20change,more%20common%20as%20we%20age.\n",
    "\n",
    "age -> maxHR https://www.tampaveinspecialists.com/changes-in-max-heart-rate-with-aging/#:~:text=As%20we%20get%20older%2C%20our,maximum%20heart%20rate%20(MHR).\n",
    "\n",
    "age -> cholestrol https://www.healthline.com/health/high-cholesterol/levels-by-age#:~:text=As%20we%20age%2C%20cholesterol%20levels,more%20frequent%20testing%20is%20recommended.\n",
    "\n",
    "sex -> cholestrol https://www.healthline.com/health/high-cholesterol/levels-by-age#:~:text=As%20we%20age%2C%20cholesterol%20levels,more%20frequent%20testing%20is%20recommended.\n",
    "\n",
    "sex -> RestingBP https://www.ahajournals.org/doi/full/10.1161/01.HYP.37.5.1199#:~:text=Recent%20studies%20using%20the%20technique,even%20higher%20than%20in%20men.\n",
    "\n",
    "sex -> maxHR https://www.ncbi.nlm.nih.gov/pmc/articles/PMC4190707/#:~:text=The%20average%20adult%20male%20heart,smaller%20in%20females%20than%20males.\n",
    "\n",
    "RestingBP-> ChestPainType https://www.ncbi.nlm.nih.gov/pmc/articles/PMC6749909/\n",
    "Cholestrol-> ChestPainTYpe https://www.mayoclinic.org/diseases-conditions/high-blood-cholesterol/symptoms-causes/syc-20350800#:~:text=High%20cholesterol%20can%20cause%20a,Chest%20pain.\n",
    "\n",
    "Cholestrol-> RestingBP https://www.healthline.com/health/high-cholesterol/treating-with-statins/hypertension#6\n",
    "FastingBS-> Cholestrol https://www.healthline.com/health/diabetes/cholesterol-and-glucose-metabolism\n",
    "RestingBP-> MaxHR https://www.ncbi.nlm.nih.gov/pmc/articles/PMC3491126/#:~:text=Elevated%20heart%20rate%20is%20associated,consideration%20in%20choosing%20antihypertensive%20medications.\n",
    "Cholestrol-> MaxHR https://goforward.com/blog/heart-health/how-does-high-cholesterol-affect-the-heart#:~:text=Does%20high%20cholesterol%20affect%20heart,oxygen%2Drich%20blood%20through%20them.\n",
    "\n",
    "Thalassemia -> FastingBS https://www.ncbi.nlm.nih.gov/pmc/articles/PMC3598161/\n",
    "\n",
    "Thalassamia -> MaxHR https://www.webmd.com/a-to-z-guides/beta-thalassemia-complications#:~:text=a%20serious%20infection.-,Heart%20Problems,can%27t%20pump%20enough%20blood\n",
    "\n",
    "Thalassemia -> ExerciseAngina https://www.ncbi.nlm.nih.gov/books/NBK173957/\n",
    " \n",
    "no.ofVes -> RestingBP https://my.clevelandclinic.org/health/diseases/23352-vasodilation#:~:text=What%20is%20vasodilation%3F-,Vasodilation%20is%20the%20medical%20term%20for%20when%20blood%20vessels%20in,without%20you%20even%20realizing%20it.\n",
    "\n",
    "Thalassemia -> Cholestrol https://pubmed.ncbi.nlm.nih.gov/21710812/#:~:text=The%20amount%20of%20serum%20total,groups%20did%20not%20show%20any\n",
    "\n",
    "Cholestrol -> HeartAttack https://familyheart.org/truth-cholesterol-heart-disease#:~:text=When%20there%20is%20too%20much%20cholesterol%20in%20your%20blood%2C%20it,off%20a%20heart%20attack%20results.\n",
    "\n",
    "MaxHR -> ExerciseAngina https://my.clevelandclinic.org/health/diseases/21489-angina#:~:text=Angina%20is%20chest%20pain%20or,blood%2C%20causing%20you%20noticeable%20pain.\n",
    "\n",
    "oldpeak -> ST_slope https://pubmed.ncbi.nlm.nih.gov/31144537/\n",
    "\n",
    "oldpeak -> ExerciseAngina https://www.ncbi.nlm.nih.gov/pmc/articles/PMC1768611/\n",
    "\n",
    "oldpeak -> restECG https://www.ncbi.nlm.nih.gov/pmc/articles/PMC1768611/\n",
    "\n",
    "ChestPainType -> HeartAttack https://www.bhf.org.uk/informationsupport/heart-matters-magazine/medical/angina-common-questions#:~:text=Most%20people%20who%20are%20diagnosed,to%20have%20a%20heart%20attack.\n",
    "\n",
    "RestingBP -> HeartAttack https://nortonhealthcare.com/news/whats-the-link-between-a-heart-attack-and-blood-pressure/#:~:text=High%20blood%20pressure%20can%20cause,of%20heart%20attacks%20and%20stroke.&text=High%20blood%20pressure%20puts%20extra%20strain%20on%20the%20heart%20and%20arteries."
   ]
  },
  {
   "cell_type": "code",
   "execution_count": 13,
   "id": "4b5b3b41",
   "metadata": {},
   "outputs": [],
   "source": [
    "model=BayesianNetwork([('age', 'RestingBP'),('age', 'MaxHR'),('age', 'Cholestrol'),\n",
    "                       ('sex', 'Cholestrol'),('sex','MaxHR'),('sex','RestingBP'),\n",
    "                       ('Cholestrol', 'ChestPainType'),('Cholestrol', 'RestingBP'),('Cholestrol', 'MaxHR'),\n",
    "                       ('FastingBS', 'Cholestrol'),\n",
    "                       ('RestingBP', 'MaxHR'),('RestingBP', 'ChestPainType'),\n",
    "                       ('Thalassemia', 'FastingBS'),('Thalassemia', 'MaxHR'),('Thalassemia', 'ExerciseAngina'),('Thalassemia', 'Cholestrol'),\n",
    "                       ('no.ofVes', 'RestingBP'),('MaxHR', 'ExerciseAngina'),\n",
    "                       ('oldpeak', 'ST_Slope'),('oldpeak', 'ExerciseAngina'),('oldpeak', 'RestingECG'),\n",
    "                       ('Cholestrol', 'HeartAttack'),('ChestPainType', 'HeartAttack'),('RestingBP', 'HeartAttack')])\n",
    "#columns=({ 'cp': 'ChestPainType', 'trtbps': 'RestingBP', 'chol':'Cholestrol', 'fbs': 'FastingBS', 'restecg':'RestingECG','thalachh':'MaxHR','exng':'ExerciseAngina','slp':'ST_Slope','caa': 'no.ofVes','thall' : 'Thalassemia','output':'HeartAttack'}), "
   ]
  },
  {
   "cell_type": "markdown",
   "id": "cf5f8a2c",
   "metadata": {},
   "source": [
    "Showing all the Nodes of the Model"
   ]
  },
  {
   "cell_type": "code",
   "execution_count": 14,
   "id": "eb2dc03e",
   "metadata": {
    "scrolled": true
   },
   "outputs": [
    {
     "name": "stdout",
     "output_type": "stream",
     "text": [
      "Nodes ['age', 'RestingBP', 'MaxHR', 'Cholestrol', 'sex', 'ChestPainType', 'FastingBS', 'Thalassemia', 'ExerciseAngina', 'no.ofVes', 'oldpeak', 'ST_Slope', 'RestingECG', 'HeartAttack'] \n",
      "\n"
     ]
    }
   ],
   "source": [
    "print('Nodes',model.nodes(),'\\n')"
   ]
  },
  {
   "cell_type": "markdown",
   "id": "2eca7a3e",
   "metadata": {},
   "source": [
    "Showing all the Edges of the model"
   ]
  },
  {
   "cell_type": "code",
   "execution_count": 15,
   "id": "035815f5",
   "metadata": {},
   "outputs": [
    {
     "name": "stdout",
     "output_type": "stream",
     "text": [
      "Edges [('age', 'RestingBP'), ('age', 'MaxHR'), ('age', 'Cholestrol'), ('RestingBP', 'MaxHR'), ('RestingBP', 'ChestPainType'), ('RestingBP', 'HeartAttack'), ('MaxHR', 'ExerciseAngina'), ('Cholestrol', 'ChestPainType'), ('Cholestrol', 'RestingBP'), ('Cholestrol', 'MaxHR'), ('Cholestrol', 'HeartAttack'), ('sex', 'Cholestrol'), ('sex', 'MaxHR'), ('sex', 'RestingBP'), ('ChestPainType', 'HeartAttack'), ('FastingBS', 'Cholestrol'), ('Thalassemia', 'FastingBS'), ('Thalassemia', 'MaxHR'), ('Thalassemia', 'ExerciseAngina'), ('Thalassemia', 'Cholestrol'), ('no.ofVes', 'RestingBP'), ('oldpeak', 'ST_Slope'), ('oldpeak', 'ExerciseAngina'), ('oldpeak', 'RestingECG')]\n"
     ]
    }
   ],
   "source": [
    "print('Edges',model.edges())"
   ]
  },
  {
   "cell_type": "markdown",
   "id": "5e9c786e",
   "metadata": {},
   "source": [
    "### Model Diagram"
   ]
  },
  {
   "cell_type": "code",
   "execution_count": 16,
   "id": "6080c3e9",
   "metadata": {
    "scrolled": true
   },
   "outputs": [
    {
     "data": {
      "image/png": "[encoded data removed]",
      "text/plain": [
       "<Figure size 1080x720 with 1 Axes>"
      ]
     },
     "metadata": {},
     "output_type": "display_data"
    }
   ],
   "source": [
    "plt.figure(figsize=(15,10))\n",
    "nx.draw_circular(model, with_labels=True, arrowsize=20, node_size=7000, font_size=10,node_color='yellow')\n",
    "plt.show()"
   ]
  },
  {
   "cell_type": "markdown",
   "id": "dc2e34d6",
   "metadata": {},
   "source": [
    "### CPT\n",
    "\n",
    "The CPT is learned, by Estimator, taking into consideration about pros and cons of the estimator, instead of a Maximum Likelihood Estimator, chosing the Bayesian Estimator as it’s more robust. Pgmpy also offer a variety of possible priors, among them a possible choice is Bayesian Dirichlet equivalent uniform prior (BDeu), chosen with its equivalent_sample_size equal to 10. Then the CPT are displayed."
   ]
  },
  {
   "cell_type": "code",
   "execution_count": 17,
   "id": "1c37fb46",
   "metadata": {},
   "outputs": [
    {
     "data": {
      "text/html": [
       "<style>div.output_area pre {white-space: pre;}</style>"
      ],
      "text/plain": [
       "<IPython.core.display.HTML object>"
      ]
     },
     "metadata": {},
     "output_type": "display_data"
    },
    {
     "name": "stdout",
     "output_type": "stream",
     "text": [
      "Check model: True\n",
      "\n",
      "CPT of age:\n",
      "+------------+-----------+\n",
      "| age(25-35) | 0.0245726 |\n",
      "+------------+-----------+\n",
      "| age(35-45) | 0.188034  |\n",
      "+------------+-----------+\n",
      "| age(45-55) | 0.287393  |\n",
      "+------------+-----------+\n",
      "| age(55-65) | 0.383547  |\n",
      "+------------+-----------+\n",
      "| age(65-75) | 0.104701  |\n",
      "+------------+-----------+\n",
      "| age(75-85) | 0.0117521 |\n",
      "+------------+-----------+ \n",
      "\n",
      "CPT of RestingBP:\n",
      "+--------------------+----------------------+-----+---------------------+---------------------+\n",
      "| Cholestrol         | Cholestrol(120-200)  | ... | Cholestrol(320+)    | Cholestrol(320+)    |\n",
      "+--------------------+----------------------+-----+---------------------+---------------------+\n",
      "| age                | age(25-35)           | ... | age(75-85)          | age(75-85)          |\n",
      "+--------------------+----------------------+-----+---------------------+---------------------+\n",
      "| no.ofVes           | no.ofVes(0)          | ... | no.ofVes(4)         | no.ofVes(4)         |\n",
      "+--------------------+----------------------+-----+---------------------+---------------------+\n",
      "| sex                | sex(0)               | ... | sex(0)              | sex(1)              |\n",
      "+--------------------+----------------------+-----+---------------------+---------------------+\n",
      "| RestingBP(110-130) | 0.010752688172043012 | ... | 0.33333333333333337 | 0.33333333333333337 |\n",
      "+--------------------+----------------------+-----+---------------------+---------------------+\n",
      "| RestingBP(130+)    | 0.978494623655914    | ... | 0.33333333333333337 | 0.33333333333333337 |\n",
      "+--------------------+----------------------+-----+---------------------+---------------------+\n",
      "| RestingBP(90-110)  | 0.010752688172043012 | ... | 0.33333333333333337 | 0.33333333333333337 |\n",
      "+--------------------+----------------------+-----+---------------------+---------------------+ \n",
      "\n",
      "CPT of MaxHR:\n",
      "+----------------+---------------------+-----+-------------------+-------------------+\n",
      "| Cholestrol     | Cholestrol(120-200) | ... | Cholestrol(320+)  | Cholestrol(320+)  |\n",
      "+----------------+---------------------+-----+-------------------+-------------------+\n",
      "| RestingBP      | RestingBP(110-130)  | ... | RestingBP(90-110) | RestingBP(90-110) |\n",
      "+----------------+---------------------+-----+-------------------+-------------------+\n",
      "| Thalassemia    | Thalassemia(0)      | ... | Thalassemia(3)    | Thalassemia(3)    |\n",
      "+----------------+---------------------+-----+-------------------+-------------------+\n",
      "| age            | age(25-35)          | ... | age(75-85)        | age(75-85)        |\n",
      "+----------------+---------------------+-----+-------------------+-------------------+\n",
      "| sex            | sex(0)              | ... | sex(0)            | sex(1)            |\n",
      "+----------------+---------------------+-----+-------------------+-------------------+\n",
      "| MaxHR(130-160) | 0.25                | ... | 0.25              | 0.25              |\n",
      "+----------------+---------------------+-----+-------------------+-------------------+\n",
      "| MaxHR(160-205) | 0.25                | ... | 0.25              | 0.25              |\n",
      "+----------------+---------------------+-----+-------------------+-------------------+\n",
      "| MaxHR(70-99)   | 0.25                | ... | 0.25              | 0.25              |\n",
      "+----------------+---------------------+-----+-------------------+-------------------+\n",
      "| MaxHR(99-130)  | 0.25                | ... | 0.25              | 0.25              |\n",
      "+----------------+---------------------+-----+-------------------+-------------------+ \n",
      "\n",
      "CPT of Cholestrol:\n",
      "+---------------------+----------------+----------------+-----+----------------+----------------+\n",
      "| FastingBS           | FastingBS(0)   | FastingBS(0)   | ... | FastingBS(1)   | FastingBS(1)   |\n",
      "+---------------------+----------------+----------------+-----+----------------+----------------+\n",
      "| Thalassemia         | Thalassemia(0) | Thalassemia(0) | ... | Thalassemia(3) | Thalassemia(3) |\n",
      "+---------------------+----------------+----------------+-----+----------------+----------------+\n",
      "| age                 | age(25-35)     | age(25-35)     | ... | age(75-85)     | age(75-85)     |\n",
      "+---------------------+----------------+----------------+-----+----------------+----------------+\n",
      "| sex                 | sex(0)         | sex(1)         | ... | sex(0)         | sex(1)         |\n",
      "+---------------------+----------------+----------------+-----+----------------+----------------+\n",
      "| Cholestrol(120-200) | 0.2            | 0.2            | ... | 0.2            | 0.2            |\n",
      "+---------------------+----------------+----------------+-----+----------------+----------------+\n",
      "| Cholestrol(200-240) | 0.2            | 0.2            | ... | 0.2            | 0.2            |\n",
      "+---------------------+----------------+----------------+-----+----------------+----------------+\n",
      "| Cholestrol(240-280) | 0.2            | 0.2            | ... | 0.2            | 0.2            |\n",
      "+---------------------+----------------+----------------+-----+----------------+----------------+\n",
      "| Cholestrol(280-320) | 0.2            | 0.2            | ... | 0.2            | 0.2            |\n",
      "+---------------------+----------------+----------------+-----+----------------+----------------+\n",
      "| Cholestrol(320+)    | 0.2            | 0.2            | ... | 0.2            | 0.2            |\n",
      "+---------------------+----------------+----------------+-----+----------------+----------------+ \n",
      "\n",
      "CPT of sex:\n",
      "+--------+----------+\n",
      "| sex(0) | 0.322684 |\n",
      "+--------+----------+\n",
      "| sex(1) | 0.677316 |\n",
      "+--------+----------+ \n",
      "\n",
      "CPT of ChestPainType:\n",
      "+------------------+---------------------+-----+----------------------+---------------------+\n",
      "| Cholestrol       | Cholestrol(120-200) | ... | Cholestrol(320+)     | Cholestrol(320+)    |\n",
      "+------------------+---------------------+-----+----------------------+---------------------+\n",
      "| RestingBP        | RestingBP(110-130)  | ... | RestingBP(130+)      | RestingBP(90-110)   |\n",
      "+------------------+---------------------+-----+----------------------+---------------------+\n",
      "| ChestPainType(0) | 0.423076923076923   | ... | 0.5975609756097561   | 0.7                 |\n",
      "+------------------+---------------------+-----+----------------------+---------------------+\n",
      "| ChestPainType(1) | 0.14615384615384613 | ... | 0.08536585365853659  | 0.09999999999999998 |\n",
      "+------------------+---------------------+-----+----------------------+---------------------+\n",
      "| ChestPainType(2) | 0.2846153846153846  | ... | 0.30487804878048785  | 0.09999999999999998 |\n",
      "+------------------+---------------------+-----+----------------------+---------------------+\n",
      "| ChestPainType(3) | 0.14615384615384613 | ... | 0.012195121951219513 | 0.09999999999999998 |\n",
      "+------------------+---------------------+-----+----------------------+---------------------+ \n",
      "\n",
      "CPT of FastingBS:\n",
      "+--------------+----------------+--------------------+--------------------+--------------------+\n",
      "| Thalassemia  | Thalassemia(0) | Thalassemia(1)     | Thalassemia(2)     | Thalassemia(3)     |\n",
      "+--------------+----------------+--------------------+--------------------+--------------------+\n",
      "| FastingBS(0) | 0.5            | 0.6951219512195121 | 0.8738872403560831 | 0.8305439330543933 |\n",
      "+--------------+----------------+--------------------+--------------------+--------------------+\n",
      "| FastingBS(1) | 0.5            | 0.3048780487804878 | 0.1261127596439169 | 0.1694560669456067 |\n",
      "+--------------+----------------+--------------------+--------------------+--------------------+ \n",
      "\n",
      "CPT of Thalassemia:\n",
      "+----------------+-----------+\n",
      "| Thalassemia(0) | 0.014377  |\n",
      "+----------------+-----------+\n",
      "| Thalassemia(1) | 0.0654952 |\n",
      "+----------------+-----------+\n",
      "| Thalassemia(2) | 0.538339  |\n",
      "+----------------+-----------+\n",
      "| Thalassemia(3) | 0.381789  |\n",
      "+----------------+-----------+ \n",
      "\n",
      "CPT of ExerciseAngina:\n",
      "+-------------------+---------------------+-----+---------------------+--------------------+\n",
      "| MaxHR             | MaxHR(130-160)      | ... | MaxHR(99-130)       | MaxHR(99-130)      |\n",
      "+-------------------+---------------------+-----+---------------------+--------------------+\n",
      "| Thalassemia       | Thalassemia(0)      | ... | Thalassemia(3)      | Thalassemia(3)     |\n",
      "+-------------------+---------------------+-----+---------------------+--------------------+\n",
      "| oldpeak           | oldpeak(0-1.5)      | ... | oldpeak(1.5-2.5)    | oldpeak(2.5-6)     |\n",
      "+-------------------+---------------------+-----+---------------------+--------------------+\n",
      "| ExerciseAngina(0) | 0.08620689655172413 | ... | 0.09044368600682595 | 0.2285067873303167 |\n",
      "+-------------------+---------------------+-----+---------------------+--------------------+\n",
      "| ExerciseAngina(1) | 0.9137931034482758  | ... | 0.909556313993174   | 0.7714932126696833 |\n",
      "+-------------------+---------------------+-----+---------------------+--------------------+ \n",
      "\n",
      "CPT of no.ofVes:\n",
      "+-------------+-----------+\n",
      "| no.ofVes(0) | 0.565495  |\n",
      "+-------------+-----------+\n",
      "| no.ofVes(1) | 0.214058  |\n",
      "+-------------+-----------+\n",
      "| no.ofVes(2) | 0.127796  |\n",
      "+-------------+-----------+\n",
      "| no.ofVes(3) | 0.0702875 |\n",
      "+-------------+-----------+\n",
      "| no.ofVes(4) | 0.0223642 |\n",
      "+-------------+-----------+ \n",
      "\n",
      "CPT of oldpeak:\n",
      "+------------------+----------+\n",
      "| oldpeak(0-1.5)   | 0.571651 |\n",
      "+------------------+----------+\n",
      "| oldpeak(1.5-2.5) | 0.235202 |\n",
      "+------------------+----------+\n",
      "| oldpeak(2.5-6)   | 0.193146 |\n",
      "+------------------+----------+ \n",
      "\n",
      "CPT of ST_Slope:\n",
      "+-------------+---------------------+---------------------+---------------------+\n",
      "| oldpeak     | oldpeak(0-1.5)      | oldpeak(1.5-2.5)    | oldpeak(2.5-6)      |\n",
      "+-------------+---------------------+---------------------+---------------------+\n",
      "| ST_Slope(0) | 0.04995458673932788 | 0.08167770419426046 | 0.3172043010752688  |\n",
      "+-------------+---------------------+---------------------+---------------------+\n",
      "| ST_Slope(1) | 0.5567665758401453  | 0.7174392935982339  | 0.60752688172043    |\n",
      "+-------------+---------------------+---------------------+---------------------+\n",
      "| ST_Slope(2) | 0.3932788374205268  | 0.20088300220750546 | 0.07526881720430108 |\n",
      "+-------------+---------------------+---------------------+---------------------+ \n",
      "\n",
      "CPT of RestingECG:\n",
      "+---------------+----------------------+---------------------+---------------------+\n",
      "| oldpeak       | oldpeak(0-1.5)       | oldpeak(1.5-2.5)    | oldpeak(2.5-6)      |\n",
      "+---------------+----------------------+---------------------+---------------------+\n",
      "| RestingECG(0) | 0.46684831970935514  | 0.5187637969094923  | 0.5591397849462365  |\n",
      "+---------------+----------------------+---------------------+---------------------+\n",
      "| RestingECG(1) | 0.5158946412352406   | 0.43929359823399555 | 0.3655913978494623  |\n",
      "+---------------+----------------------+---------------------+---------------------+\n",
      "| RestingECG(2) | 0.017257039055404176 | 0.04194260485651214 | 0.07526881720430108 |\n",
      "+---------------+----------------------+---------------------+---------------------+ \n",
      "\n",
      "CPT of HeartAttack:\n",
      "+----------------+---------------------+-----+------------------+-------------------+\n",
      "| ChestPainType  | ChestPainType(0)    | ... | ChestPainType(3) | ChestPainType(3)  |\n",
      "+----------------+---------------------+-----+------------------+-------------------+\n",
      "| Cholestrol     | Cholestrol(120-200) | ... | Cholestrol(320+) | Cholestrol(320+)  |\n",
      "+----------------+---------------------+-----+------------------+-------------------+\n",
      "| RestingBP      | RestingBP(110-130)  | ... | RestingBP(130+)  | RestingBP(90-110) |\n",
      "+----------------+---------------------+-----+------------------+-------------------+\n",
      "| HeartAttack(0) | 0.6636363636363637  | ... | 0.5              | 0.5               |\n",
      "+----------------+---------------------+-----+------------------+-------------------+\n",
      "| HeartAttack(1) | 0.3363636363636364  | ... | 0.5              | 0.5               |\n",
      "+----------------+---------------------+-----+------------------+-------------------+ \n",
      "\n"
     ]
    }
   ],
   "source": [
    "display(HTML(\"<style>div.output_area pre {white-space: pre;}</style>\"))\n",
    "\n",
    "model.cpds = []\n",
    "model.fit(data=df,\n",
    "          estimator=BayesianEstimator,\n",
    "          prior_type=\"BDeu\",\n",
    "          equivalent_sample_size=10,\n",
    "          complete_samples_only=False)\n",
    "\n",
    "print(f'Check model: {model.check_model()}\\n')\n",
    "for cpd in model.get_cpds():\n",
    "    print(f'CPT of {cpd.variable}:')\n",
    "    print(cpd, '\\n')"
   ]
  },
  {
   "cell_type": "markdown",
   "id": "1de4807d",
   "metadata": {},
   "source": [
    "### Network Analysis"
   ]
  },
  {
   "cell_type": "markdown",
   "id": "fbb87124",
   "metadata": {},
   "source": [
    "#### Independence and Decendents\n",
    "\n",
    "Using method ‘local_independencies()’ and 'model.get_children()' from pgmpy to get the local independencies and decendants of each node."
   ]
  },
  {
   "cell_type": "code",
   "execution_count": 18,
   "id": "c5cbe3d5",
   "metadata": {},
   "outputs": [
    {
     "name": "stdout",
     "output_type": "stream",
     "text": [
      " Independencies : age \n",
      " (age ⟂ Thalassemia, FastingBS, oldpeak, ST_Slope, no.ofVes, RestingECG, sex)\n",
      " Descendants : age \n",
      " ['RestingBP', 'MaxHR', 'Cholestrol']\n",
      "\n",
      "\n",
      " Independencies : RestingBP \n",
      " (RestingBP ⟂ Thalassemia, oldpeak, ST_Slope, FastingBS, RestingECG | Cholestrol, age, no.ofVes, sex)\n",
      " Descendants : RestingBP \n",
      " ['MaxHR', 'ChestPainType', 'HeartAttack']\n",
      "\n",
      "\n",
      " Independencies : MaxHR \n",
      " (MaxHR ⟂ HeartAttack, ChestPainType, FastingBS, oldpeak, ST_Slope, no.ofVes, RestingECG | Thalassemia, age, RestingBP, Cholestrol, sex)\n",
      " Descendants : MaxHR \n",
      " ['ExerciseAngina']\n",
      "\n",
      "\n",
      " Independencies : Cholestrol \n",
      " (Cholestrol ⟂ oldpeak, no.ofVes, RestingECG, ST_Slope | Thalassemia, age, FastingBS, sex)\n",
      " Descendants : Cholestrol \n",
      " ['ChestPainType', 'RestingBP', 'MaxHR', 'HeartAttack']\n",
      "\n",
      "\n",
      " Independencies : sex \n",
      " (sex ⟂ Thalassemia, FastingBS, oldpeak, age, ST_Slope, no.ofVes, RestingECG)\n",
      " Descendants : sex \n",
      " ['Cholestrol', 'MaxHR', 'RestingBP']\n",
      "\n",
      "\n",
      " Independencies : ChestPainType \n",
      " (ChestPainType ⟂ sex, ST_Slope, MaxHR, FastingBS, no.ofVes, Thalassemia, oldpeak, age, RestingECG, ExerciseAngina | RestingBP, Cholestrol)\n",
      " Descendants : ChestPainType \n",
      " ['HeartAttack']\n",
      "\n",
      "\n",
      " Independencies : FastingBS \n",
      " (FastingBS ⟂ oldpeak, age, ST_Slope, no.ofVes, RestingECG, sex | Thalassemia)\n",
      " Descendants : FastingBS \n",
      " ['Cholestrol']\n",
      "\n",
      "\n",
      " Independencies : Thalassemia \n",
      " (Thalassemia ⟂ oldpeak, age, ST_Slope, no.ofVes, RestingECG, sex)\n",
      " Descendants : Thalassemia \n",
      " ['FastingBS', 'MaxHR', 'ExerciseAngina', 'Cholestrol']\n",
      "\n",
      "\n",
      " Independencies : ExerciseAngina \n",
      " (ExerciseAngina ⟂ HeartAttack, ST_Slope, no.ofVes, FastingBS, ChestPainType, age, RestingBP, Cholestrol, RestingECG, sex | Thalassemia, oldpeak, MaxHR)\n",
      " Descendants : ExerciseAngina \n",
      " []\n",
      "\n",
      "\n",
      " Independencies : no.ofVes \n",
      " (no.ofVes ⟂ ST_Slope, FastingBS, Thalassemia, oldpeak, age, Cholestrol, RestingECG, sex)\n",
      " Descendants : no.ofVes \n",
      " ['RestingBP']\n",
      "\n",
      "\n",
      " Independencies : oldpeak \n",
      " (oldpeak ⟂ HeartAttack, no.ofVes, FastingBS, MaxHR, Thalassemia, ChestPainType, age, RestingBP, Cholestrol, sex)\n",
      " Descendants : oldpeak \n",
      " ['ST_Slope', 'ExerciseAngina', 'RestingECG']\n",
      "\n",
      "\n",
      " Independencies : ST_Slope \n",
      " (ST_Slope ⟂ HeartAttack, ExerciseAngina, MaxHR, FastingBS, no.ofVes, Thalassemia, ChestPainType, age, RestingBP, Cholestrol, RestingECG, sex | oldpeak)\n",
      " Descendants : ST_Slope \n",
      " []\n",
      "\n",
      "\n",
      " Independencies : RestingECG \n",
      " (RestingECG ⟂ HeartAttack, ST_Slope, ExerciseAngina, MaxHR, FastingBS, no.ofVes, Thalassemia, ChestPainType, age, RestingBP, Cholestrol, sex | oldpeak)\n",
      " Descendants : RestingECG \n",
      " []\n",
      "\n",
      "\n",
      " Independencies : HeartAttack \n",
      " (HeartAttack ⟂ ST_Slope, ExerciseAngina, no.ofVes, FastingBS, MaxHR, Thalassemia, oldpeak, age, RestingECG, sex | RestingBP, ChestPainType, Cholestrol)\n",
      " Descendants : HeartAttack \n",
      " []\n",
      "\n",
      "\n"
     ]
    }
   ],
   "source": [
    "for i in model.nodes():\n",
    "  print(\" Independencies :\",i,'\\n',model.local_independencies(i))\n",
    "  print(\" Descendants :\",i,'\\n',model.get_children(i))\n",
    "  print('\\n')"
   ]
  },
  {
   "cell_type": "markdown",
   "id": "a8aa3d28",
   "metadata": {},
   "source": [
    "### Markov Blanket and Active Trails\n",
    "\n",
    "In pgmpy it’s possible to investigate different properties of the network. \n",
    "Implementing the functions ‘markov blanket()’ , which returns the set of node’s parents, its children and its children’s other parents and ‘active_trails_of()’, which returns all the nodes reachable from start via an active trail."
   ]
  },
  {
   "cell_type": "code",
   "execution_count": 19,
   "id": "ef7d497a",
   "metadata": {
    "scrolled": true
   },
   "outputs": [
    {
     "name": "stdout",
     "output_type": "stream",
     "text": [
      "Markov Blanket:  age \n",
      " ['MaxHR', 'no.ofVes', 'FastingBS', 'Thalassemia', 'RestingBP', 'Cholestrol', 'sex']\n",
      "\n",
      "\n",
      "Markov Blanket:  RestingBP \n",
      " ['HeartAttack', 'MaxHR', 'no.ofVes', 'Thalassemia', 'ChestPainType', 'age', 'Cholestrol', 'sex']\n",
      "\n",
      "\n",
      "Markov Blanket:  MaxHR \n",
      " ['ExerciseAngina', 'Thalassemia', 'oldpeak', 'age', 'RestingBP', 'Cholestrol', 'sex']\n",
      "\n",
      "\n",
      "Markov Blanket:  Cholestrol \n",
      " ['HeartAttack', 'MaxHR', 'FastingBS', 'no.ofVes', 'Thalassemia', 'ChestPainType', 'age', 'RestingBP', 'sex']\n",
      "\n",
      "\n",
      "Markov Blanket:  sex \n",
      " ['MaxHR', 'FastingBS', 'no.ofVes', 'Thalassemia', 'age', 'RestingBP', 'Cholestrol']\n",
      "\n",
      "\n",
      "Markov Blanket:  ChestPainType \n",
      " ['HeartAttack', 'RestingBP', 'Cholestrol']\n",
      "\n",
      "\n",
      "Markov Blanket:  FastingBS \n",
      " ['Thalassemia', 'age', 'Cholestrol', 'sex']\n",
      "\n",
      "\n",
      "Markov Blanket:  Thalassemia \n",
      " ['sex', 'FastingBS', 'MaxHR', 'oldpeak', 'age', 'RestingBP', 'Cholestrol', 'ExerciseAngina']\n",
      "\n",
      "\n",
      "Markov Blanket:  ExerciseAngina \n",
      " ['Thalassemia', 'oldpeak', 'MaxHR']\n",
      "\n",
      "\n",
      "Markov Blanket:  no.ofVes \n",
      " ['age', 'RestingBP', 'Cholestrol', 'sex']\n",
      "\n",
      "\n",
      "Markov Blanket:  oldpeak \n",
      " ['ST_Slope', 'MaxHR', 'Thalassemia', 'RestingECG', 'ExerciseAngina']\n",
      "\n",
      "\n",
      "Markov Blanket:  ST_Slope \n",
      " ['oldpeak']\n",
      "\n",
      "\n",
      "Markov Blanket:  RestingECG \n",
      " ['oldpeak']\n",
      "\n",
      "\n",
      "Markov Blanket:  HeartAttack \n",
      " ['RestingBP', 'ChestPainType', 'Cholestrol']\n",
      "\n",
      "\n"
     ]
    }
   ],
   "source": [
    "# the markov blanket of each node\n",
    "for i in model.nodes():\n",
    "  print(\"Markov Blanket: \",i,'\\n',model.get_markov_blanket(i))\n",
    "  print('\\n')"
   ]
  },
  {
   "cell_type": "code",
   "execution_count": 20,
   "id": "325b8361",
   "metadata": {
    "scrolled": true
   },
   "outputs": [
    {
     "name": "stdout",
     "output_type": "stream",
     "text": [
      "Active trails between 'HeartAttack' and {'sex', 'MaxHR', 'FastingBS', 'no.ofVes', 'Thalassemia', 'ChestPainType', 'age', 'RestingBP', 'Cholestrol', 'ExerciseAngina'} given no evidence.\n",
      "Active trails between 'HeartAttack' and {'sex', 'MaxHR', 'FastingBS', 'no.ofVes', 'Thalassemia', 'ChestPainType', 'age', 'Cholestrol', 'ExerciseAngina'} given the evidence {'RestingBP'}.\n",
      "Active trails between 'HeartAttack' and {'ExerciseAngina', 'no.ofVes', 'MaxHR', 'FastingBS', 'ChestPainType', 'age', 'RestingBP', 'sex'} given the evidence {'Thalassemia', 'Cholestrol'}.\n",
      "Active trails between 'RestingBP' and {'HeartAttack', 'ExerciseAngina', 'no.ofVes', 'MaxHR', 'FastingBS', 'Thalassemia', 'ChestPainType', 'sex'} given the evidence {'age', 'Cholestrol'}.\n",
      "Active trails between 'Cholestrol' and {'HeartAttack', 'ExerciseAngina', 'MaxHR', 'FastingBS', 'Thalassemia', 'ChestPainType', 'age', 'RestingBP', 'sex'} given no evidence.\n",
      "RestingBP and HeartAttack is_dconnected :  True\n"
     ]
    }
   ],
   "source": [
    "# the active trails between variables with/without evidence\n",
    "def active_trails_of(query, evidence):\n",
    "    a = model.active_trail_nodes(query, observed=evidence).get(query)\n",
    "    a.remove(query)\n",
    "    if a:\n",
    "        if evidence:\n",
    "            print(f'Active trails between \\'{query}\\' and {a} given the evidence {set(evidence)}.')\n",
    "        else:\n",
    "            print(f'Active trails between \\'{query}\\' and {a} given no evidence.')\n",
    "    else:\n",
    "        print(f'No Active trails for \\'{query}\\' given the evidence {set(evidence)}.')\n",
    "\n",
    "active_trails_of(query='HeartAttack', evidence=[])\n",
    "active_trails_of(query='HeartAttack', evidence=['RestingBP'])\n",
    "active_trails_of(query='HeartAttack', evidence=['Cholestrol','Thalassemia'])\n",
    "active_trails_of(query='RestingBP', evidence=['Cholestrol','age'])\n",
    "active_trails_of(query='Cholestrol', evidence=[])\n",
    "\n",
    "# Checking d-separation between variables without evidence\n",
    "print(\"RestingBP and HeartAttack is_dconnected : \",model.is_dconnected(\"RestingBP\",\"HeartAttack\"))\n",
    "#print('Active trails between ',model.active_trail_nodes('ExerciseAngina'))"
   ]
  },
  {
   "cell_type": "markdown",
   "id": "a69d8831",
   "metadata": {},
   "source": [
    "Finding Parent and Children of Target"
   ]
  },
  {
   "cell_type": "code",
   "execution_count": 21,
   "id": "1ecf97e7",
   "metadata": {},
   "outputs": [
    {
     "name": "stdout",
     "output_type": "stream",
     "text": [
      "Children :  []\n",
      "Parents :  ['Cholestrol', 'ChestPainType', 'RestingBP']\n"
     ]
    }
   ],
   "source": [
    "print(\"Children : \",model.get_children(target))\n",
    "print(\"Parents : \",model.get_parents(target))"
   ]
  },
  {
   "cell_type": "markdown",
   "id": "01849de7",
   "metadata": {},
   "source": [
    "### Variable Elimination Queries\n",
    "\n",
    "To answer questions that are useful in establishing an individual's risk of Heart Attack.\n",
    "\n",
    "Implementing both exact and approximate inference on the network by using simple case studies to mimic how this network can actually be used to help in diagnosis. In particular, exact inference on the model is done using pgmpy's Variable Elimination method, while for the approximate inference choosing to use Likelihood Weighted Sampling.\n",
    "\n",
    "### Exact Inference: a case study\n",
    "\n",
    "Using the Variable Elimination method provided by pgmpy: the order in which the variables will be eliminated depends on the chosen heuristic function, which assigns a cost to the removal of every node a part from those taking part in query and evidence. The library provides 4 different heuristics:\n",
    "\n",
    "    MinFill: the cost of removing the node is equal to the number of edges that need to be added to the network after its\n",
    "    elimination.\n",
    "   \n",
    "    MinNeighbors: removing a node has a cost equal to the number of neighbors it has in the current architecture.\n",
    "    \n",
    "    MinWeight: to every node is assigned a weight given by its domain cardinality; then, the cost of removing a node is \n",
    "    equal to the product of the weights of its neighbors\n",
    "    \n",
    "    WeightedMinFill: to every edge is assigned a weight given by the product of the domain cardinality of its vertices; \n",
    "    then, the cost of removing node A is given by the sum of the weights of the edges we'll need to add to the network \n",
    "    after its elimination.\n",
    "\n",
    "Trying to solve a simple case study using all the above heuristcs, in order to compare them in terms of performances and of the elimination order they lead to."
   ]
  },
  {
   "cell_type": "code",
   "execution_count": 22,
   "id": "4235d248",
   "metadata": {
    "scrolled": true
   },
   "outputs": [
    {
     "name": "stdout",
     "output_type": "stream",
     "text": [
      "Using MinFill\n",
      "+----------------+--------------------+\n",
      "| HeartAttack    |   phi(HeartAttack) |\n",
      "+================+====================+\n",
      "| HeartAttack(0) |             0.1846 |\n",
      "+----------------+--------------------+\n",
      "| HeartAttack(1) |             0.8154 |\n",
      "+----------------+--------------------+\n",
      "----- Query solved in 0.0056 seconds -----\n",
      "\n",
      "\n",
      "Using MinNeighbors\n",
      "+----------------+--------------------+\n",
      "| HeartAttack    |   phi(HeartAttack) |\n",
      "+================+====================+\n",
      "| HeartAttack(0) |             0.1846 |\n",
      "+----------------+--------------------+\n",
      "| HeartAttack(1) |             0.8154 |\n",
      "+----------------+--------------------+\n",
      "----- Query solved in 0.0050 seconds -----\n",
      "\n",
      "\n",
      "Using MinWeight\n",
      "+----------------+--------------------+\n",
      "| HeartAttack    |   phi(HeartAttack) |\n",
      "+================+====================+\n",
      "| HeartAttack(0) |             0.1846 |\n",
      "+----------------+--------------------+\n",
      "| HeartAttack(1) |             0.8154 |\n",
      "+----------------+--------------------+\n",
      "----- Query solved in 0.0037 seconds -----\n",
      "\n",
      "\n",
      "Using WeightedMinFill\n",
      "+----------------+--------------------+\n",
      "| HeartAttack    |   phi(HeartAttack) |\n",
      "+================+====================+\n",
      "| HeartAttack(0) |             0.1846 |\n",
      "+----------------+--------------------+\n",
      "| HeartAttack(1) |             0.8154 |\n",
      "+----------------+--------------------+\n",
      "----- Query solved in 0.0044 seconds -----\n",
      "\n",
      "\n"
     ]
    },
    {
     "data": {
      "text/html": [
       "<div>\n",
       "<style scoped>\n",
       "    .dataframe tbody tr th:only-of-type {\n",
       "        vertical-align: middle;\n",
       "    }\n",
       "\n",
       "    .dataframe tbody tr th {\n",
       "        vertical-align: top;\n",
       "    }\n",
       "\n",
       "    .dataframe thead th {\n",
       "        text-align: right;\n",
       "    }\n",
       "</style>\n",
       "<table border=\"1\" class=\"dataframe\">\n",
       "  <thead>\n",
       "    <tr style=\"text-align: right;\">\n",
       "      <th></th>\n",
       "      <th>Heuristic</th>\n",
       "      <th>Time</th>\n",
       "      <th>Variable Order</th>\n",
       "    </tr>\n",
       "  </thead>\n",
       "  <tbody>\n",
       "    <tr>\n",
       "      <th>0</th>\n",
       "      <td>MinFill</td>\n",
       "      <td>0.005636</td>\n",
       "      <td>[ST_Slope, no.ofVes, FastingBS, RestingECG, ol...</td>\n",
       "    </tr>\n",
       "    <tr>\n",
       "      <th>1</th>\n",
       "      <td>MinNeighbors</td>\n",
       "      <td>0.005004</td>\n",
       "      <td>[ST_Slope, RestingECG, oldpeak, ExerciseAngina...</td>\n",
       "    </tr>\n",
       "    <tr>\n",
       "      <th>2</th>\n",
       "      <td>MinWeight</td>\n",
       "      <td>0.003693</td>\n",
       "      <td>[ST_Slope, RestingECG, oldpeak, ExerciseAngina...</td>\n",
       "    </tr>\n",
       "    <tr>\n",
       "      <th>3</th>\n",
       "      <td>WeightedMinFill</td>\n",
       "      <td>0.004423</td>\n",
       "      <td>[ST_Slope, RestingECG, oldpeak, ExerciseAngina...</td>\n",
       "    </tr>\n",
       "  </tbody>\n",
       "</table>\n",
       "</div>"
      ],
      "text/plain": [
       "         Heuristic      Time  \\\n",
       "0          MinFill  0.005636   \n",
       "1     MinNeighbors  0.005004   \n",
       "2        MinWeight  0.003693   \n",
       "3  WeightedMinFill  0.004423   \n",
       "\n",
       "                                      Variable Order  \n",
       "0  [ST_Slope, no.ofVes, FastingBS, RestingECG, ol...  \n",
       "1  [ST_Slope, RestingECG, oldpeak, ExerciseAngina...  \n",
       "2  [ST_Slope, RestingECG, oldpeak, ExerciseAngina...  \n",
       "3  [ST_Slope, RestingECG, oldpeak, ExerciseAngina...  "
      ]
     },
     "execution_count": 22,
     "metadata": {},
     "output_type": "execute_result"
    }
   ],
   "source": [
    "import time\n",
    "\n",
    "target_inference=VariableElimination(model)\n",
    "ordering_heuristics = ['MinFill', 'MinNeighbors','MinWeight','WeightedMinFill']\n",
    "results = {\n",
    "        'Heuristic': [],\n",
    "        'Time': [],\n",
    "        'Variable Order': []\n",
    "    }\n",
    "for order in ordering_heuristics:\n",
    "    print('Using ' + order)\n",
    "    start = time.time()\n",
    "    prob = target_inference.query([target],\n",
    "                          evidence={'RestingBP':'110-130','MaxHR':'130-160', 'ChestPainType':1},\n",
    "                          elimination_order=order,\n",
    "                          show_progress=False)\n",
    "    end = time.time() - start\n",
    "    results['Time'].append(end)\n",
    "    results['Heuristic'].append(order)\n",
    "    used_order = target_inference._get_elimination_order([target],\n",
    "                                                  evidence={'RestingBP':'110-130','MaxHR':'130-160', 'ChestPainType':1},\n",
    "                                                  elimination_order=order,\n",
    "                                                  show_progress=False)\n",
    "    results['Variable Order'].append(used_order)\n",
    "    print(prob)\n",
    "    print('----- Query solved in {:.4f} seconds -----\\n\\n'.format(end))\n",
    "\n",
    "res = pd.DataFrame(results)\n",
    "res.head()"
   ]
  },
  {
   "cell_type": "markdown",
   "id": "904e9b52",
   "metadata": {},
   "source": [
    "The outcomes show that the different heuristics need almost the same time to reach to the conclusion and the order of variable elimination are similar except for the MinFill heuristic which differs in insignificant amount. Thus, all four heuristics work well for the simple case study and thus using the default heuristic for further queries."
   ]
  },
  {
   "cell_type": "markdown",
   "id": "d06d6944",
   "metadata": {},
   "source": [
    "#### Query 1: P(HeartAttack| FastingBS=1,sex=1) where sex=1 denotes the person is Male."
   ]
  },
  {
   "cell_type": "code",
   "execution_count": 23,
   "id": "bc86af58",
   "metadata": {
    "scrolled": true
   },
   "outputs": [
    {
     "name": "stdout",
     "output_type": "stream",
     "text": [
      "\n",
      "\n",
      "P (HeartAttack| FastingBS=1,sex=1)\n",
      "+----------------+--------------------+\n",
      "| HeartAttack    |   phi(HeartAttack) |\n",
      "+================+====================+\n",
      "| HeartAttack(0) |             0.4644 |\n",
      "+----------------+--------------------+\n",
      "| HeartAttack(1) |             0.5356 |\n",
      "+----------------+--------------------+\n"
     ]
    }
   ],
   "source": [
    "q_1=target_inference.query(['HeartAttack'],evidence={'FastingBS':1,'sex':1})\n",
    "print('\\n\\nP (HeartAttack| FastingBS=1,sex=1)')\n",
    "print(q_1)"
   ]
  },
  {
   "cell_type": "markdown",
   "id": "72d01cf3",
   "metadata": {},
   "source": [
    "#### Query 2: P(HeartAttack| Cholestrol='200-240',age='65-75')"
   ]
  },
  {
   "cell_type": "code",
   "execution_count": 24,
   "id": "e0757142",
   "metadata": {},
   "outputs": [
    {
     "name": "stdout",
     "output_type": "stream",
     "text": [
      "\n",
      "\n",
      "P (HeartAttack| Cholestrol='200-240',age='65-75')\n",
      "+----------------+--------------------+\n",
      "| HeartAttack    |   phi(HeartAttack) |\n",
      "+================+====================+\n",
      "| HeartAttack(0) |             0.3913 |\n",
      "+----------------+--------------------+\n",
      "| HeartAttack(1) |             0.6087 |\n",
      "+----------------+--------------------+\n"
     ]
    }
   ],
   "source": [
    "q_2=target_inference.query(['HeartAttack'],evidence={'Cholestrol':'200-240','age':'65-75'})\n",
    "print(\"\\n\\nP (HeartAttack| Cholestrol='200-240',age='65-75')\")\n",
    "print(q_2)"
   ]
  },
  {
   "cell_type": "markdown",
   "id": "11913690",
   "metadata": {},
   "source": [
    "#### Query 3: P(HeartAttack| RestingBP='110-130',maxHR='130-160', ChestPainType=1) where ChestPainType=1  denotes atypical anginal"
   ]
  },
  {
   "cell_type": "code",
   "execution_count": 25,
   "id": "32b17e78",
   "metadata": {
    "scrolled": true
   },
   "outputs": [
    {
     "name": "stdout",
     "output_type": "stream",
     "text": [
      "\n",
      "\n",
      "P (HeartAttack| RestingBP='110-130',maxHR='130-160',ChestPainType=1)\n",
      "+----------------+--------------------+\n",
      "| HeartAttack    |   phi(HeartAttack) |\n",
      "+================+====================+\n",
      "| HeartAttack(0) |             0.1846 |\n",
      "+----------------+--------------------+\n",
      "| HeartAttack(1) |             0.8154 |\n",
      "+----------------+--------------------+\n"
     ]
    }
   ],
   "source": [
    "q_3=target_inference.query(['HeartAttack'],evidence={'RestingBP':'110-130','MaxHR':'130-160', 'ChestPainType':1})\n",
    "print(\"\\n\\nP (HeartAttack| RestingBP='110-130',maxHR='130-160',ChestPainType=1)\")\n",
    "print(q_3)"
   ]
  },
  {
   "cell_type": "markdown",
   "id": "146382e0",
   "metadata": {},
   "source": [
    "#### Query 4: P(HeartAttack| Thalassemia=1,ExerciseAngina=1) where Thalassemia=0 denotes reversible defect and ExerciseAngina=1 denotes yes"
   ]
  },
  {
   "cell_type": "code",
   "execution_count": 26,
   "id": "726216de",
   "metadata": {
    "scrolled": true
   },
   "outputs": [
    {
     "name": "stdout",
     "output_type": "stream",
     "text": [
      "\n",
      "\n",
      "P (RestingBP| HeartAttack=1)\n",
      "+--------------------+------------------+\n",
      "| RestingBP          |   phi(RestingBP) |\n",
      "+====================+==================+\n",
      "| RestingBP(110-130) |           0.4456 |\n",
      "+--------------------+------------------+\n",
      "| RestingBP(130+)    |           0.3783 |\n",
      "+--------------------+------------------+\n",
      "| RestingBP(90-110)  |           0.1761 |\n",
      "+--------------------+------------------+\n"
     ]
    }
   ],
   "source": [
    "q_4=target_inference.query(['RestingBP'],evidence={'HeartAttack':1})\n",
    "print(\"\\n\\nP (RestingBP| HeartAttack=1)\")\n",
    "print(q_4)"
   ]
  },
  {
   "cell_type": "markdown",
   "id": "fe7d19f4",
   "metadata": {},
   "source": [
    "#### Query 5: P(HeartAttack| Thalassemia=1,Cholestrol='200-240') where Thalassemia=0 denotes fixed defect "
   ]
  },
  {
   "cell_type": "code",
   "execution_count": 27,
   "id": "cc794c37",
   "metadata": {},
   "outputs": [
    {
     "name": "stdout",
     "output_type": "stream",
     "text": [
      "\n",
      "\n",
      "P (HeartAttack| Thalassemia=1,Cholestrol='200-240')\n",
      "+----------------+--------------------+\n",
      "| HeartAttack    |   phi(HeartAttack) |\n",
      "+================+====================+\n",
      "| HeartAttack(0) |             0.3835 |\n",
      "+----------------+--------------------+\n",
      "| HeartAttack(1) |             0.6165 |\n",
      "+----------------+--------------------+\n"
     ]
    }
   ],
   "source": [
    "q_5=target_inference.query(['HeartAttack'],evidence={'Thalassemia':1,'Cholestrol':'200-240'})\n",
    "print(\"\\n\\nP (HeartAttack| Thalassemia=1,Cholestrol='200-240')\")\n",
    "print(q_5)"
   ]
  },
  {
   "cell_type": "markdown",
   "id": "11bec099",
   "metadata": {},
   "source": [
    "#### Query 6: Probability of an HeartAttack given the Age"
   ]
  },
  {
   "cell_type": "code",
   "execution_count": 28,
   "id": "b8ef57c3",
   "metadata": {
    "scrolled": true
   },
   "outputs": [
    {
     "name": "stdout",
     "output_type": "stream",
     "text": [
      "Probability of HeartAttack given the Age: 55-65\n",
      "+----------------+--------------------+\n",
      "| HeartAttack    |   phi(HeartAttack) |\n",
      "+================+====================+\n",
      "| HeartAttack(0) |             0.4747 |\n",
      "+----------------+--------------------+\n",
      "| HeartAttack(1) |             0.5253 |\n",
      "+----------------+--------------------+\n",
      "Probability of HeartAttack given the Age: 45-55\n",
      "+----------------+--------------------+\n",
      "| HeartAttack    |   phi(HeartAttack) |\n",
      "+================+====================+\n",
      "| HeartAttack(0) |             0.4541 |\n",
      "+----------------+--------------------+\n",
      "| HeartAttack(1) |             0.5459 |\n",
      "+----------------+--------------------+\n",
      "Probability of HeartAttack given the Age: 35-45\n",
      "+----------------+--------------------+\n",
      "| HeartAttack    |   phi(HeartAttack) |\n",
      "+================+====================+\n",
      "| HeartAttack(0) |             0.4486 |\n",
      "+----------------+--------------------+\n",
      "| HeartAttack(1) |             0.5514 |\n",
      "+----------------+--------------------+\n",
      "Probability of HeartAttack given the Age: 65-75\n",
      "+----------------+--------------------+\n",
      "| HeartAttack    |   phi(HeartAttack) |\n",
      "+================+====================+\n",
      "| HeartAttack(0) |             0.4704 |\n",
      "+----------------+--------------------+\n",
      "| HeartAttack(1) |             0.5296 |\n",
      "+----------------+--------------------+\n",
      "Probability of HeartAttack given the Age: 25-35\n",
      "+----------------+--------------------+\n",
      "| HeartAttack    |   phi(HeartAttack) |\n",
      "+================+====================+\n",
      "| HeartAttack(0) |             0.4493 |\n",
      "+----------------+--------------------+\n",
      "| HeartAttack(1) |             0.5507 |\n",
      "+----------------+--------------------+\n",
      "Probability of HeartAttack given the Age: 75-85\n",
      "+----------------+--------------------+\n",
      "| HeartAttack    |   phi(HeartAttack) |\n",
      "+================+====================+\n",
      "| HeartAttack(0) |             0.4958 |\n",
      "+----------------+--------------------+\n",
      "| HeartAttack(1) |             0.5042 |\n",
      "+----------------+--------------------+\n"
     ]
    }
   ],
   "source": [
    "for i in (list(df[\"age\"].value_counts().index)):\n",
    "  print(\"Probability of HeartAttack given the Age:\",i)\n",
    "  print(target_inference.query([\"HeartAttack\"], evidence={\"age\":i}))"
   ]
  },
  {
   "cell_type": "markdown",
   "id": "3f529be7",
   "metadata": {},
   "source": [
    "#### Query 7: P(HeartAttack| oldpeak='2.5-6', no.ofVes=2, RestingECG=2) where no.ofVes=2 denotes 2 major vessels and RestingECG=2 denotes showing probable or definite left ventricular hypertrophy by Estes' criteria"
   ]
  },
  {
   "cell_type": "code",
   "execution_count": 29,
   "id": "0c4d43c1",
   "metadata": {
    "scrolled": true
   },
   "outputs": [
    {
     "name": "stdout",
     "output_type": "stream",
     "text": [
      "\n",
      "\n",
      "P (HeartAttack|oldpeak='2.5-6', no.ofVes=2,RestingECG=2)\n",
      "+----------------+--------------------+\n",
      "| HeartAttack    |   phi(HeartAttack) |\n",
      "+================+====================+\n",
      "| HeartAttack(0) |             0.4647 |\n",
      "+----------------+--------------------+\n",
      "| HeartAttack(1) |             0.5353 |\n",
      "+----------------+--------------------+\n"
     ]
    }
   ],
   "source": [
    "q_7=target_inference.query(['HeartAttack'],evidence={'oldpeak':'2.5-6','no.ofVes':2,'RestingECG':2})\n",
    "print(\"\\n\\nP (HeartAttack|oldpeak='2.5-6', no.ofVes=2,RestingECG=2)\")\n",
    "print(q_7)"
   ]
  },
  {
   "cell_type": "markdown",
   "id": "e0332002",
   "metadata": {},
   "source": [
    "#### Query 8: P(HeartAttack|sex=0) where sex=0 denotes female"
   ]
  },
  {
   "cell_type": "code",
   "execution_count": 30,
   "id": "0acd8038",
   "metadata": {
    "scrolled": true
   },
   "outputs": [
    {
     "name": "stdout",
     "output_type": "stream",
     "text": [
      "\n",
      "\n",
      "P (HeartAttack| sex=0)\n",
      "+----------------+--------------------+\n",
      "| HeartAttack    |   phi(HeartAttack) |\n",
      "+================+====================+\n",
      "| HeartAttack(0) |             0.4846 |\n",
      "+----------------+--------------------+\n",
      "| HeartAttack(1) |             0.5154 |\n",
      "+----------------+--------------------+\n"
     ]
    }
   ],
   "source": [
    "q_8=target_inference.query(['HeartAttack'],evidence={'sex':0})\n",
    "print(\"\\n\\nP (HeartAttack| sex=0)\")\n",
    "print(q_8)"
   ]
  },
  {
   "cell_type": "markdown",
   "id": "219fe312",
   "metadata": {},
   "source": [
    "#### Query 9: P(HeartAttack|ChestPainType=0) where ChestPainType=0 denotes typical angina"
   ]
  },
  {
   "cell_type": "code",
   "execution_count": 31,
   "id": "e16f2372",
   "metadata": {
    "scrolled": true
   },
   "outputs": [
    {
     "name": "stdout",
     "output_type": "stream",
     "text": [
      "\n",
      "\n",
      "P (HeartAttack|ChestPainType=1)\n",
      "+----------------+--------------------+\n",
      "| HeartAttack    |   phi(HeartAttack) |\n",
      "+================+====================+\n",
      "| HeartAttack(0) |             0.7239 |\n",
      "+----------------+--------------------+\n",
      "| HeartAttack(1) |             0.2761 |\n",
      "+----------------+--------------------+\n"
     ]
    }
   ],
   "source": [
    "q_9=target_inference.query(['HeartAttack'],evidence={'ChestPainType':0})\n",
    "print(\"\\n\\nP (HeartAttack|ChestPainType=1)\")\n",
    "print(q_9)"
   ]
  },
  {
   "cell_type": "markdown",
   "id": "3548cdf5",
   "metadata": {},
   "source": [
    "### Appriximate Inference\n",
    "\n",
    "Probability Approximation using Likelihood weighted sampling. Generates weighted sample(s) from joint distribution of the bayesian network, that comply with the given evidence."
   ]
  },
  {
   "cell_type": "code",
   "execution_count": 32,
   "id": "9f334fe5",
   "metadata": {},
   "outputs": [],
   "source": [
    "# Define the inference function using likelihood weighted sampling using sample size 100\n",
    "\n",
    "from pgmpy.sampling import BayesianModelSampling\n",
    "from pgmpy.factors.discrete import State\n",
    "\n",
    "def sampLW(Q, evidence, sample_size):\n",
    "    target_infer = BayesianModelSampling(model)\n",
    "    \n",
    "    samples = target_infer.likelihood_weighted_sample(evidence=evidence, size=sample_size, seed=0)\n",
    "    \n",
    "    unique = samples[Q].unique()\n",
    "    unique.sort()\n",
    "    \n",
    "    string = ''\n",
    "    last = len(evidence) - 1\n",
    "    for i, pair in enumerate(evidence):\n",
    "        string += pair[0] + '=' + str(pair[1])\n",
    "        if i != last:\n",
    "            string += ', '\n",
    "    \n",
    "    print('Probability of {} given {}\\n'.format(Q, string))\n",
    "    \n",
    "    prob_lst = []\n",
    "    for val in unique:\n",
    "        rows = samples[samples[Q] == val]\n",
    "        \n",
    "        numerator = np.sum(rows['_weight'])\n",
    "        denominator = np.sum(samples['_weight'])\n",
    "        prob = round(numerator/denominator, 5)\n",
    "        \n",
    "        prob_lst.append(prob)\n",
    "        \n",
    "        print('{}({}) = {}'.format(Q, val, prob))"
   ]
  },
  {
   "cell_type": "code",
   "execution_count": 33,
   "id": "6c376333",
   "metadata": {},
   "outputs": [
    {
     "data": {
      "application/vnd.jupyter.widget-view+json": {
       "model_id": "509e7235cceb4aae89a43cc228569e93",
       "version_major": 2,
       "version_minor": 0
      },
      "text/plain": [
       "  0%|          | 0/14 [00:00<?, ?it/s]"
      ]
     },
     "metadata": {},
     "output_type": "display_data"
    },
    {
     "name": "stdout",
     "output_type": "stream",
     "text": [
      "Probability of HeartAttack given RestingBP=110-130, MaxHR=130-160, ChestPainType=1\n",
      "\n",
      "HeartAttack(0) = 0.15098\n",
      "HeartAttack(1) = 0.84902\n"
     ]
    },
    {
     "name": "stderr",
     "output_type": "stream",
     "text": [
      "C:\\Users\\Kankana Ghosh\\AppData\\Local\\Programs\\Python\\Python310\\lib\\site-packages\\pgmpy\\utils\\mathext.py:83: UserWarning: Probability values don't exactly sum to 1. Differ by: 1.1102230246251565e-16. Adjusting values.\n",
      "  warn(\n"
     ]
    }
   ],
   "source": [
    "sampLW('HeartAttack', [State('RestingBP','110-130'), State('MaxHR','130-160'), State('ChestPainType',1)], 100)"
   ]
  },
  {
   "cell_type": "code",
   "execution_count": 34,
   "id": "a17036f4",
   "metadata": {
    "scrolled": true
   },
   "outputs": [
    {
     "data": {
      "application/vnd.jupyter.widget-view+json": {
       "model_id": "73d46b57b867420a9fd30b8327b5831c",
       "version_major": 2,
       "version_minor": 0
      },
      "text/plain": [
       "  0%|          | 0/14 [00:00<?, ?it/s]"
      ]
     },
     "metadata": {},
     "output_type": "display_data"
    },
    {
     "name": "stderr",
     "output_type": "stream",
     "text": [
      "C:\\Users\\Kankana Ghosh\\AppData\\Local\\Programs\\Python\\Python310\\lib\\site-packages\\pgmpy\\utils\\mathext.py:83: UserWarning: Probability values don't exactly sum to 1. Differ by: 1.1102230246251565e-16. Adjusting values.\n",
      "  warn(\n"
     ]
    },
    {
     "name": "stdout",
     "output_type": "stream",
     "text": [
      "Probability of RestingBP given Cholestrol=240-280\n",
      "\n",
      "RestingBP(110-130) = 0.52124\n",
      "RestingBP(130+) = 0.28674\n",
      "RestingBP(90-110) = 0.19201\n"
     ]
    }
   ],
   "source": [
    "sampLW('RestingBP', [State('Cholestrol','240-280')], 100)"
   ]
  },
  {
   "cell_type": "code",
   "execution_count": 39,
   "id": "e2182980",
   "metadata": {},
   "outputs": [
    {
     "data": {
      "application/vnd.jupyter.widget-view+json": {
       "model_id": "b525ebe02b7940dcbb9a06a297712132",
       "version_major": 2,
       "version_minor": 0
      },
      "text/plain": [
       "  0%|          | 0/14 [00:00<?, ?it/s]"
      ]
     },
     "metadata": {},
     "output_type": "display_data"
    },
    {
     "name": "stdout",
     "output_type": "stream",
     "text": [
      "Probability of HeartAttack given no.ofVes=0\n",
      "\n",
      "HeartAttack(0) = 0.43\n",
      "HeartAttack(1) = 0.57\n"
     ]
    },
    {
     "name": "stderr",
     "output_type": "stream",
     "text": [
      "C:\\Users\\Kankana Ghosh\\AppData\\Local\\Programs\\Python\\Python310\\lib\\site-packages\\pgmpy\\utils\\mathext.py:83: UserWarning: Probability values don't exactly sum to 1. Differ by: 1.1102230246251565e-16. Adjusting values.\n",
      "  warn(\n"
     ]
    }
   ],
   "source": [
    "sampLW('HeartAttack', [State('no.ofVes',0)], 100)"
   ]
  },
  {
   "cell_type": "code",
   "execution_count": null,
   "id": "d682d8a0",
   "metadata": {},
   "outputs": [],
   "source": []
  }
 ],
 "metadata": {
  "kernelspec": {
   "display_name": "Python 3 (ipykernel)",
   "language": "python",
   "name": "python3"
  },
  "language_info": {
   "codemirror_mode": {
    "name": "ipython",
    "version": 3
   },
   "file_extension": ".py",
   "mimetype": "text/x-python",
   "name": "python",
   "nbconvert_exporter": "python",
   "pygments_lexer": "ipython3",
   "version": "3.10.4"
  }
 },
 "nbformat": 4,
 "nbformat_minor": 5
}
